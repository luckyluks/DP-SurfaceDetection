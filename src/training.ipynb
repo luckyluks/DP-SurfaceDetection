{
 "cells": [
  {
   "cell_type": "markdown",
   "metadata": {},
   "source": [
    "# DP-SurfaceDetection - Training run\n"
   ]
  },
  {
   "cell_type": "code",
   "execution_count": 1,
   "metadata": {},
   "outputs": [
    {
     "name": "stdout",
     "output_type": "stream",
     "text": "current working directory:c:\\Users\\lukas\\workspace\\DP-SurfaceDetection\\src\n"
    }
   ],
   "source": [
    "# import system packages\n",
    "import os\n",
    "import json\n",
    "import glob\n",
    "import numpy as np\n",
    "import random as rand\n",
    "%matplotlib inline\n",
    "import matplotlib.pyplot as plt\n",
    "from tqdm import tqdm_notebook as tqdm\n",
    "\n",
    "# import pytorch stuff\n",
    "import torch\n",
    "import torch.nn as nn\n",
    "from torch.utils import data\n",
    "import torchvision.transforms as T\n",
    "from torch.utils.data import *\n",
    "\n",
    "# import own python files\n",
    "%load_ext autoreload\n",
    "%autoreload 2\n",
    "if \"src\" not in os.getcwd():\n",
    "    os.chdir(\"src\")\n",
    "    src_root = os.getcwd()\n",
    "    print(\"current working directory:\\t\", src_root)\n",
    "from train import *\n",
    "\n"
   ]
  },
  {
   "cell_type": "code",
   "execution_count": 2,
   "metadata": {},
   "outputs": [
    {
     "name": "stdout",
     "output_type": "stream",
     "text": "Using device:cuda\nUsing device:cpu\n"
    }
   ],
   "source": [
    "device = \"cuda\" if torch.cuda.is_available() else \"cpu\"\n",
    "print(\"Using device:\", device)\n",
    "# force cpu for small gpu\n",
    "device = \"cpu\"\n",
    "print(\"Using device:\", device)\n"
   ]
  },
  {
   "cell_type": "markdown",
   "execution_count": 3,
   "metadata": {},
   "outputs": [],
   "source": [
    "Usefull links:\n",
    "- https://github.com/fregu856 - multiple pytorch repos including training for segmantic segmentation\n",
    "- https://www.mdpi.com/2306-5729/4/1/40/htm - what we want to do, but in ego perspective\n",
    "- https://github.com/zijundeng/pytorch-semantic-segmentation - more pytorch training pipelines\n"
   ]
  },
  {
   "cell_type": "code",
   "execution_count": null,
   "metadata": {},
   "outputs": [],
   "source": []
  }
 ],
 "metadata": {
  "colab": {
   "collapsed_sections": [],
   "name": "data_loading.ipynb",
   "provenance": [],
   "toc_visible": true
  },
  "kernelspec": {
   "display_name": "Python 3",
   "language": "python",
   "name": "python3"
  },
  "language_info": {
   "codemirror_mode": {
    "name": "ipython",
    "version": 3
   },
   "file_extension": ".py",
   "mimetype": "text/x-python",
   "name": "python",
   "nbconvert_exporter": "python",
   "pygments_lexer": "ipython3",
   "version": "3.7.3"
  }
 },
 "nbformat": 4,
 "nbformat_minor": 1
}