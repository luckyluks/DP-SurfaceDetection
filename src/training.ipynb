{
 "cells": [
  {
   "cell_type": "markdown",
   "metadata": {},
   "source": [
    "# DP-SurfaceDetection - Training run\n"
   ]
  },
  {
   "cell_type": "code",
   "execution_count": 1,
   "metadata": {
    "colab": {},
    "colab_type": "code",
    "id": "1J3Ej-CV22dh"
   },
   "outputs": [],
   "source": [
    "import os\n",
    "import json\n",
    "import glob\n",
    "import numpy as np\n",
    "import random as rand\n",
    "import librosa\n",
    "import librosa.display\n",
    "%matplotlib inline\n",
    "import matplotlib.pyplot as plt\n",
    "import torch\n",
    "import torch.nn as nn\n",
    "from torch.utils import data\n",
    "import torchvision.transforms as T\n",
    "\n",
    "%load_ext autoreload\n",
    "%autoreload 2\n",
    "from decoder import Decoder\n",
    "from encoder import Encoder\n",
    "from discriminator import Discriminator\n",
    "from train import *\n",
    "from torch.utils.data import *\n",
    "from train import *\n",
    "from plotter import Plotter\n"
   ]
  },
  {
   "cell_type": "code",
   "execution_count": 17,
   "metadata": {},
   "outputs": [],
   "source": [
    "from functools import reduce\n",
    "\n",
    "class NSynthDataset(data.Dataset):\n",
    "    def __init__(self, root, transform=None, target_transform=None, domains=['']):\n",
    "        self.root = root\n",
    "        self.transform=transform\n",
    "        self.target_transform = None\n",
    "        self.domains = domains\n",
    "        self.filenames = reduce((lambda a, b: a + b), \n",
    "                                map(lambda domain: glob.glob(os.path.join(root, \"audio/\" + domain  + \"*.wav\")), domains))\n",
    "        with open(os.path.join(root, \"examples.json\"), \"r\") as f:\n",
    "            self.json_data = json.load(f)\n",
    "    \n",
    "    def __len__(self):\n",
    "        return len(self.filenames)\n",
    "    \n",
    "    def __getitem__(self, i):\n",
    "        sample = self.get_spectrogram(i)\n",
    "        target = self.get_target(i)\n",
    "        if self.transform is not None:\n",
    "            sample = self.transform(sample)\n",
    "        if self.target_transform is not None:\n",
    "            target = self.target_transform(target)\n",
    "        augmented_sample = sample\n",
    "        return sample, augmented_sample, target\n",
    "    \n",
    "    def get_spectrogram(self, i, n_mels=128, sr=16000, fmax=8000):\n",
    "        y, _ = librosa.load(self.get_name(i), sr=sr)\n",
    "        return librosa.feature.melspectrogram(y=y, sr=sr, n_mels=n_mels, fmax=fmax)\n",
    "    \n",
    "    def get_name(self, i):\n",
    "        return self.filenames[i]\n",
    "    \n",
    "    def get_target_str(self, i):\n",
    "        data = self.json_data[os.path.splitext(os.path.basename(self.get_name(i)))[0]]\n",
    "        return data['instrument_family_str'] + '_' + data['instrument_source_str']\n",
    "\n",
    "    def get_target_str_full(self, i):\n",
    "        data = self.json_data[os.path.splitext(os.path.basename(self.get_name(i)))[0]]\n",
    "        return data['instrument_str']\n",
    "    \n",
    "    def get_target(self, i):\n",
    "        target = self.get_target_str(i)\n",
    "        if target in self.domains:\n",
    "            return self.domains.index(target)\n",
    "        else:\n",
    "            return -1"
   ]
  },
  {
   "cell_type": "code",
   "execution_count": 3,
   "metadata": {},
   "outputs": [],
   "source": [
    "def plot_spectrogram(S, title=None, sr=16000, fmax=8000):\n",
    "    plt.figure(figsize=(10, 4))\n",
    "    S_dB = librosa.power_to_db(S, ref=np.max)\n",
    "    librosa.display.specshow(S_dB, x_axis='time', y_axis='mel', sr=sr, fmax=fmax)\n",
    "    plt.colorbar(format='%+2.0f dB')\n",
    "    plt.tight_layout()\n",
    "    plt.title(title)\n",
    "    plt.show()"
   ]
  },
  {
   "cell_type": "code",
   "execution_count": 19,
   "metadata": {
    "scrolled": false
   },
   "outputs": [
    {
     "name": "stdout",
     "output_type": "stream",
     "text": [
      "nsynth-test/audio/bass_synthetic_098-079-050.wav\n"
     ]
    }
   ],
   "source": [
    "transform = T.Compose([\n",
    "                T.ToTensor(), \n",
    "                nn.ConstantPad2d((0, 2), 0), # To get the size to be 128x128\n",
    "                T.Normalize((5.598382777731995,), (71.13882950507647,), inplace=True) \n",
    "])\n",
    "\n",
    "dataset = NSynthDataset(root='nsynth-test', transform=transform)\n",
    "\n",
    "%matplotlib inline\n",
    "print(dataset.get_name(6))\n",
    "#plot_spectrogram(dataset.get_spectrogram(6), title=dataset.get_name(6))"
   ]
  },
  {
   "cell_type": "code",
   "execution_count": 5,
   "metadata": {},
   "outputs": [
    {
     "data": {
      "image/png": "[encoded data removed]",
      "text/plain": [
       "<Figure size 720x288 with 2 Axes>"
      ]
     },
     "metadata": {
      "needs_background": "light"
     },
     "output_type": "display_data"
    },
    {
     "name": "stdout",
     "output_type": "stream",
     "text": [
      "Total number of samples: 2483\n",
      "Number of training samples: 1863\n",
      "Number of validation samples: 372\n",
      "Number of testing samples: 248\n"
     ]
    }
   ],
   "source": [
    "val_ratio = 0.15\n",
    "test_ratio = 0.1\n",
    "\n",
    "domains = ['flute_synthetic','bass_synthetic'] #flute_synthetic\n",
    "dataset = NSynthDataset(root='nsynth-test', transform=transform, domains=domains)\n",
    "\n",
    "test_number = rand.randrange (0,len(dataset[0]),1)\n",
    "# test_number = 315\n",
    "\n",
    "plot_spectrogram(dataset.get_spectrogram(test_number), title=dataset.get_target_str_full(test_number))\n",
    "n_samples = len(dataset)\n",
    "n_val_samples = int(n_samples*val_ratio)\n",
    "n_test_samples = int(n_samples*test_ratio)\n",
    "n_train_samples = n_samples-n_val_samples-n_test_samples\n",
    "\n",
    "train_dataset, val_dataset, test_dataset = random_split(dataset, [n_train_samples, n_val_samples, n_test_samples])\n",
    "\n",
    "print(\"Total number of samples: {}\".format(len(dataset)))\n",
    "print(\"Number of training samples: {}\".format(len(train_dataset)))\n",
    "print(\"Number of validation samples: {}\".format(len(val_dataset)))\n",
    "print(\"Number of testing samples: {}\".format(len(test_dataset)))"
   ]
  },
  {
   "cell_type": "code",
   "execution_count": 6,
   "metadata": {},
   "outputs": [],
   "source": [
    "# Test for the sampler\n",
    "from sampler import MusicBatchSampler\n",
    "\n",
    "def test_sampler():\n",
    "    sampler = MusicBatchSampler(data_source=test_dataset,batch_size=10)\n",
    "\n",
    "    seen_indices = []\n",
    "\n",
    "    for batch in sampler:    \n",
    "        targets = []\n",
    "\n",
    "        for i in batch:\n",
    "            targets.append(dataset.get_target(i))\n",
    "\n",
    "            # Assert that this index has not been seen before\n",
    "            assert(i not in seen_indices)\n",
    "            seen_indices.append(i)\n",
    "\n",
    "        targets = np.array(targets)\n",
    "\n",
    "        assert((targets == targets[0]).all())\n",
    "        assert(len(batch) == sampler.batch_size)\n",
    "        \n",
    "test_sampler()"
   ]
  },
  {
   "cell_type": "code",
   "execution_count": 39,
   "metadata": {},
   "outputs": [],
   "source": [
    "def create_dataset(domain, root='nsynth-test'):\n",
    "    dataset = NSynthDataset(root=root, transform=transform, domains=domain)\n",
    "    print(\"Total number of samples in dataset for domain \\\"{}\\\": {}\".format(domain, len(dataset)))\n",
    "    return dataset\n",
    "\n",
    "def create_loaders_for_domain(domain, root='nsynth-test',bs=16):\n",
    "    \n",
    "    dataset = NSynthDataset(root=root, transform=transform, domains=domain)\n",
    "\n",
    "    test_number = rand.randrange (0,len(dataset),1)\n",
    "    #plot_spectrogram(dataset.get_spectrogram(test_number), title=dataset.get_target_str(test_number))\n",
    "    \n",
    "    val_ratio = 0.15\n",
    "    test_ratio = 0.1\n",
    "    n_samples = len(dataset)\n",
    "    n_val_samples = int(n_samples*val_ratio)\n",
    "    n_test_samples = int(n_samples*test_ratio)\n",
    "    n_train_samples = n_samples-n_val_samples-n_test_samples\n",
    "\n",
    "    train_dataset, val_dataset, test_dataset = random_split(dataset, [n_train_samples, n_val_samples, n_test_samples])\n",
    "\n",
    "    print(\"Total number of samples: {}\".format(len(dataset)))\n",
    "    print(\"Number of training samples: {}\".format(len(train_dataset)))\n",
    "    print(\"Number of validation samples: {}\".format(len(val_dataset)))\n",
    "    print(\"Number of testing samples: {}\".format(len(test_dataset)))\n",
    "    \n",
    "    print(\"Creating data loaders for {}...\".format(domain), end=\"\\r\")\n",
    "    train_loader = DataLoader(train_dataset, batch_sampler=MusicBatchSampler(data_source=train_dataset,batch_size=bs))\n",
    "    val_loader = DataLoader(val_dataset, batch_sampler=MusicBatchSampler(data_source=val_dataset,batch_size=bs))\n",
    "    test_loader = DataLoader(val_dataset, batch_sampler=MusicBatchSampler(data_source=test_dataset,batch_size=len(test_dataset)))\n",
    "    print(\"Creating data loaders ... [Done]\")\n",
    "    \n",
    "    return train_loader, val_loader, test_loader\n",
    "    "
   ]
  },
  {
   "cell_type": "code",
   "execution_count": 8,
   "metadata": {},
   "outputs": [
    {
     "name": "stdout",
     "output_type": "stream",
     "text": [
      "Using device: cpu\n"
     ]
    }
   ],
   "source": [
    "device = \"cuda\" if torch.cuda.is_available() else \"cpu\"\n",
    "print(\"Using device:\", device)"
   ]
  }
 ],
 "metadata": {
  "colab": {
   "collapsed_sections": [],
   "name": "data_loading.ipynb",
   "provenance": [],
   "toc_visible": true
  },
  "kernelspec": {
   "display_name": "Python 3",
   "language": "python",
   "name": "python3"
  },
  "language_info": {
   "codemirror_mode": {
    "name": "ipython",
    "version": 3
   },
   "file_extension": ".py",
   "mimetype": "text/x-python",
   "name": "python",
   "nbconvert_exporter": "python",
   "pygments_lexer": "ipython3",
   "version": "3.7.4"
  }
 },
 "nbformat": 4,
 "nbformat_minor": 1
}
